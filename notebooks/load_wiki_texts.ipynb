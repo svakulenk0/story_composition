{
 "cells": [
  {
   "cell_type": "code",
   "execution_count": 29,
   "metadata": {},
   "outputs": [
    {
     "name": "stdout",
     "output_type": "stream",
     "text": [
      "https://en.wikipedia.org/wiki/Ángel_Zárraga\n"
     ]
    }
   ],
   "source": [
    "import requests\n",
    "import urllib.parse\n",
    "from lxml import html\n",
    "from newspaper import Article\n",
    "import json\n",
    "\n",
    "\n",
    "PREFIX = \"https://en.wikipedia.org/wiki/\"\n",
    "\n",
    "def load_texts(filename):\n",
    "    lines = []\n",
    "    pages = []\n",
    "    with open('../data/%s.jsonl'%filename, 'r') as infile:\n",
    "        lines = infile.readlines()\n",
    "    # load and save Wiki texts\n",
    "    with open('../data/%s_texts.jsonl'%filename, 'w') as outfile:\n",
    "        for line in lines:\n",
    "            entry = json.loads(line)\n",
    "            page = entry['page']\n",
    "            url = urllib.parse.unquote(PREFIX+page)\n",
    "            print(url)\n",
    "            # parse page\n",
    "            a = Article(url, language='en')\n",
    "            try:\n",
    "                a.download()\n",
    "                a.parse()\n",
    "                title = a.title\n",
    "                text = a.text\n",
    "                entry['text'] = text\n",
    "#                 paragraphs = [p for p in text.split('\\n') if len(p) > 100]\n",
    "#                 for p in paragraphs:\n",
    "#                     print(p)\n",
    "            except:\n",
    "                pass\n",
    "            \n",
    "            json.dump(entry, outfile)\n",
    "            outfile.write('\\n')\n",
    "            \n",
    "            break\n",
    "\n",
    "load_texts('artists')"
   ]
  },
  {
   "cell_type": "code",
   "execution_count": 13,
   "metadata": {},
   "outputs": [
    {
     "name": "stdout",
     "output_type": "stream",
     "text": [
      "{'22916418': {'pageid': 22916418, 'ns': 0, 'title': 'Ángel Zárraga', 'revisions': [{'contentformat': 'text/x-wiki', 'contentmodel': 'wikitext', '*': '{{Infobox artist\\n| bgcolour      = #6495ED\\n| name          = Ángel Zárraga (y) Argüelles\\n| image         = Angel Zarraga.jpg\\n| imagesize     = \\n| caption       = \\n| birth_name     = \\n| birth_date     = {{Birth date|1886|8|16}}\\n| birth_place      = [[Victoria de Durango]]\\n| death_date     = {{death date and age|1946|9|22|1886|8|16}}\\n| death_place    = \\n| nationality   = [[Mexico|Mexican]]\\n| field         = painting\\n| training      = [[Academia de San Carlos|Escuela Nacional de Bellas Artes]]\\n| movement      = [[Mexican muralism]]\\n| works         = \\n| patrons       = \\n| influenced by = [[Paul Cézanne]], [[Cubism]], [[Giotto di Bondone]]\\n| influenced    = \\n| awards        = \\n}}\\n\\'\\'\\'Ángel Zárraga (y) Argüelles\\'\\'\\' (August 16, 1886 in [[Victoria de Durango]] &ndash; September 22, 1946) was a [[Mexico|Mexican]] painter. He was a founding member of the cultural organization \\'\\'[[Ateneo de la Juventud|El Ateneo de la Juventud]]\\'\\'.\\n\\n==Biography==\\n[[File:Ángel Zárraga - Votive Offering (Saint Sebastian) - Google Art Project.jpg|thumb|left|125px|upright|Zárraga\\'s 1912 \\'\\'Ex Voto\\'\\', with [[Saint Sebastian]]]]\\nZárraga was born the son of the physician Dr. Fernando Zárraga and his wife Guadalupe Argüelles in the \\'\\'Barrio de Analco\\'\\' of Durango. While attending the [[Escuela Nacional Preparatoria]] in [[Mexico City]], he made his first contacts with the prevailing artistic and intellectual scene, and later studied at the [[Academia de San Carlos|Escuela Nacional de Bellas Artes]] (ENBA). His family made possible for him a study trip to Europe in 1904, where he visited and exhibited in [[Spain]], [[France]] and [[Italy]]. He also visited courses at [[the Royal Academies for Science and the Arts of Belgium]]. \\n\\nIn 1906 he exhibited some of his pictures in the [[Museo del Prado]], and in 1907 in an exhibition of the ENBA. He participated in the 1909 [[Biennale di Venezia]] and exhibited in the Salon at the [[Piazzale Donatello]], [[Florence]]. In 1911 he moved to France for good, and he only returned to Mexico once at the outbreak of [[World War II]] for a short time. \\n\\nFrom 1914 Zárraga painted in a [[Cubism|Cubist]] style<ref>[https://gallica.bnf.fr/ark:/12148/bpt6k61079474/f13.item Le Bulletin de la vie artistique, Bernheim-Jeune, Paris, 1 December 1924, pp. 481-484]</ref> and after 1921 his work was influenced by [[Paul Cézanne|Cézanne]] and [[Giotto di Bondone|Giotto]]. He also painted [[mural]]s at the [[Château de Vert-Cœur]] and in the [[Cité Internationale Universitaire de Paris]], and decorated the Mexican embassy in [[Paris]]. He also exhibited at the [[Salon d\\'Automne]], as well as in [[New York City]]. As a result of the collapse of the international art market he lost his sponsors and became depressed. During [[World War II]] he returned to his home country in 1941, where he painted murals at the \\'\\'Club de Banqueros\\'\\' and in [[Monterrey Cathedral]].<ref name=\"Biografías y Vidas\">[http://www.biografiasyvidas.com/biografia/z/zarraga.htm \\'\\'Ángel Zárraga y Argüelles\\'\\'] at \\'\\'Biografías y Vidas\\'\\' {{in lang|es}}.</ref><ref name=\"yancuic\">[http://www.yancuic.com/Hemeroteca/AIIE52P21.PDF \\'\\'Ángel Zárraga\\'\\'] {{in lang|es}}</ref> He died of [[pneumonia]].<ref name=\"Museo Blaisten\">[http://www.museoblaisten.com/english.asp?myURL=%2F02asp%2FEnglish%2FartistDetailEnglish%2Easp&myVars=artistId%3D5 \\'\\'Angel Zárraga , 1886-1946\\'\\'], Museo Andrés Blaisten.</ref> A museum of contemporary art in Durango is named after him.<ref name=\"Durango\">[http://www.ilam.org/fichas/mx145.htm \\'\\'Museo de Arte Contemporáneo Ángel Zárraga\\'\\'].</ref>\\n\\n<center>\\n<gallery>\\nLa_bailarina_desnuda.JPG|Angel Sarraga. Nude ballerina, between 1907 and 1909\\nLa femme et le pantin.JPG|«Woman and puppet», 1909\\nÁngel Zárraga - The Gift - Google Art Project.jpg|«In», 1910\\nÁngel Zárraga - The old man with the Scapular - Google Art Project.jpg|«The old one with the stick»\\nРамон_Наварро.jpg|Picture of [[Ramon Novarro]] 1929 (Óleo sobre lienzo)\\n1926-circa.-Ángel-Zárraga-La-futbolista-rubia.jpg|«Blonde football player», 1926\\nThree_players_with_beret._214.3_х_124.5_х.,м._Частное_собрание.jpg|Three players with beret, 1921\\nFotabl-feminin.jpg|«Football players», 1922\\nFile:Ángel-Zárraga.-El-sentido-de-la-creación.jpg|«Young football player», 1926\\n</gallery>\\n</center>\\n\\n==References==\\n{{Reflist}}\\n\\n==External links==\\n{{Commons category|Ángel Zárraga}}\\n* {{IAI|396921973}}\\n{{Alumni of the National School of Arts (UNAM)}}\\n\\n{{Authority control}}\\n{{DEFAULTSORT:Zarraga, Angel}}\\n[[Category:20th-century Mexican painters]]\\n[[Category:Mexican male painters]]\\n[[Category:Mexican muralists]]\\n[[Category:Artists from Durango]]\\n[[Category:People from Durango City]]\\n[[Category:1886 births]]\\n[[Category:1946 deaths]]'}]}}\n"
     ]
    }
   ],
   "source": [
    "import json\n",
    "import requests\n",
    "\n",
    "WIKI_API = \"https://en.wikipedia.org/w/api.php?format=json&\"\n",
    "GET_TEXT = WIKI_API + \"action=query&prop=revisions&rvprop=content&titles=%s\"\n",
    "\n",
    "def load_texts(filename):\n",
    "    lines = []\n",
    "    pages = []\n",
    "    with open('../data/%s.jsonl'%filename, 'r') as infile:\n",
    "        lines = infile.readlines()\n",
    "    # load and save Wiki texts\n",
    "    with open('../data/%s_texts.jsonl'%filename, 'w') as outfile:\n",
    "        for line in lines:\n",
    "            entry = json.loads(line)\n",
    "            title = entry['title']\n",
    "            result = json.loads(requests.get(GET_TEXT%title).text)['query']['pages']\n",
    "            for article in result.values():\n",
    "                if article['pageid'] not in pages:\n",
    "                    pages.append(article['pageid'])\n",
    "                    json_object = {'pageid': article['pageid'], 'title': article['title'],\n",
    "                                  }\n",
    "            break\n",
    "\n",
    "load_texts('artists')"
   ]
  },
  {
   "cell_type": "code",
   "execution_count": null,
   "metadata": {},
   "outputs": [],
   "source": []
  }
 ],
 "metadata": {
  "kernelspec": {
   "display_name": "text_analysis",
   "language": "python",
   "name": "text_analysis"
  },
  "language_info": {
   "codemirror_mode": {
    "name": "ipython",
    "version": 3
   },
   "file_extension": ".py",
   "mimetype": "text/x-python",
   "name": "python",
   "nbconvert_exporter": "python",
   "pygments_lexer": "ipython3",
   "version": "3.6.9"
  }
 },
 "nbformat": 4,
 "nbformat_minor": 2
}
